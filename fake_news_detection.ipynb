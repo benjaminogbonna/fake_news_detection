{
 "cells": [
  {
   "cell_type": "markdown",
   "id": "149e10bf",
   "metadata": {},
   "source": [
    "# Detecting Fake News with Machine Learning"
   ]
  },
  {
   "cell_type": "code",
   "execution_count": 236,
   "id": "101e81d5",
   "metadata": {},
   "outputs": [],
   "source": [
    "# notebook imports\n",
    "\n",
    "import numpy as np\n",
    "import pandas as pd\n",
    "import seaborn as sns\n",
    "import matplotlib.pyplot as plt\n",
    "import itertools\n",
    "import zipfile\n",
    "from nltk.corpus import stopwords \n",
    "\n",
    "from sklearn.model_selection import train_test_split\n",
    "from sklearn.linear_model import PassiveAggressiveClassifier\n",
    "from sklearn.feature_extraction.text import TfidfVectorizer, HashingVectorizer\n",
    "from sklearn.metrics import accuracy_score, confusion_matrix, f1_score, recall_score, precision_score"
   ]
  },
  {
   "cell_type": "code",
   "execution_count": null,
   "id": "7e4e13e9",
   "metadata": {},
   "outputs": [],
   "source": [
    "# unzip file\n",
    "\n",
    "zip_ref = zipfile.ZipFile('fake_real_news.zip', \"r\")\n",
    "zip_ref.extractall()\n",
    "zip_ref.close()"
   ]
  },
  {
   "cell_type": "code",
   "execution_count": 237,
   "id": "aff1b078",
   "metadata": {},
   "outputs": [
    {
     "data": {
      "text/html": [
       "<div>\n",
       "<style scoped>\n",
       "    .dataframe tbody tr th:only-of-type {\n",
       "        vertical-align: middle;\n",
       "    }\n",
       "\n",
       "    .dataframe tbody tr th {\n",
       "        vertical-align: top;\n",
       "    }\n",
       "\n",
       "    .dataframe thead th {\n",
       "        text-align: right;\n",
       "    }\n",
       "</style>\n",
       "<table border=\"1\" class=\"dataframe\">\n",
       "  <thead>\n",
       "    <tr style=\"text-align: right;\">\n",
       "      <th></th>\n",
       "      <th>Unnamed: 0</th>\n",
       "      <th>title</th>\n",
       "      <th>text</th>\n",
       "      <th>label</th>\n",
       "    </tr>\n",
       "  </thead>\n",
       "  <tbody>\n",
       "    <tr>\n",
       "      <th>0</th>\n",
       "      <td>8476</td>\n",
       "      <td>You Can Smell Hillary’s Fear</td>\n",
       "      <td>Daniel Greenfield, a Shillman Journalism Fello...</td>\n",
       "      <td>FAKE</td>\n",
       "    </tr>\n",
       "    <tr>\n",
       "      <th>1</th>\n",
       "      <td>10294</td>\n",
       "      <td>Watch The Exact Moment Paul Ryan Committed Pol...</td>\n",
       "      <td>Google Pinterest Digg Linkedin Reddit Stumbleu...</td>\n",
       "      <td>FAKE</td>\n",
       "    </tr>\n",
       "    <tr>\n",
       "      <th>2</th>\n",
       "      <td>3608</td>\n",
       "      <td>Kerry to go to Paris in gesture of sympathy</td>\n",
       "      <td>U.S. Secretary of State John F. Kerry said Mon...</td>\n",
       "      <td>REAL</td>\n",
       "    </tr>\n",
       "    <tr>\n",
       "      <th>3</th>\n",
       "      <td>10142</td>\n",
       "      <td>Bernie supporters on Twitter erupt in anger ag...</td>\n",
       "      <td>— Kaydee King (@KaydeeKing) November 9, 2016 T...</td>\n",
       "      <td>FAKE</td>\n",
       "    </tr>\n",
       "    <tr>\n",
       "      <th>4</th>\n",
       "      <td>875</td>\n",
       "      <td>The Battle of New York: Why This Primary Matters</td>\n",
       "      <td>It's primary day in New York and front-runners...</td>\n",
       "      <td>REAL</td>\n",
       "    </tr>\n",
       "  </tbody>\n",
       "</table>\n",
       "</div>"
      ],
      "text/plain": [
       "   Unnamed: 0                                              title  \\\n",
       "0        8476                       You Can Smell Hillary’s Fear   \n",
       "1       10294  Watch The Exact Moment Paul Ryan Committed Pol...   \n",
       "2        3608        Kerry to go to Paris in gesture of sympathy   \n",
       "3       10142  Bernie supporters on Twitter erupt in anger ag...   \n",
       "4         875   The Battle of New York: Why This Primary Matters   \n",
       "\n",
       "                                                text label  \n",
       "0  Daniel Greenfield, a Shillman Journalism Fello...  FAKE  \n",
       "1  Google Pinterest Digg Linkedin Reddit Stumbleu...  FAKE  \n",
       "2  U.S. Secretary of State John F. Kerry said Mon...  REAL  \n",
       "3  — Kaydee King (@KaydeeKing) November 9, 2016 T...  FAKE  \n",
       "4  It's primary day in New York and front-runners...  REAL  "
      ]
     },
     "execution_count": 237,
     "metadata": {},
     "output_type": "execute_result"
    }
   ],
   "source": [
    "# get data\n",
    "data = pd.read_csv('fake_real_news.csv')\n",
    "data.head()"
   ]
  },
  {
   "cell_type": "code",
   "execution_count": 143,
   "id": "4138ffa5",
   "metadata": {},
   "outputs": [
    {
     "data": {
      "text/plain": [
       "REAL    3171\n",
       "FAKE    3164\n",
       "Name: label, dtype: int64"
      ]
     },
     "execution_count": 143,
     "metadata": {},
     "output_type": "execute_result"
    }
   ],
   "source": [
    "data['label'].value_counts()"
   ]
  },
  {
   "cell_type": "markdown",
   "id": "db838f79",
   "metadata": {},
   "source": [
    "# Data Exploration and Preprocessing"
   ]
  },
  {
   "cell_type": "code",
   "execution_count": 238,
   "id": "898e1678",
   "metadata": {},
   "outputs": [],
   "source": [
    "# convert label to numbers\n",
    "\n",
    "data.label.replace(to_replace=['FAKE', 'REAL'], value=[1, 0], inplace=True)"
   ]
  },
  {
   "cell_type": "code",
   "execution_count": 239,
   "id": "6ec2664d",
   "metadata": {},
   "outputs": [
    {
     "data": {
      "text/html": [
       "<div>\n",
       "<style scoped>\n",
       "    .dataframe tbody tr th:only-of-type {\n",
       "        vertical-align: middle;\n",
       "    }\n",
       "\n",
       "    .dataframe tbody tr th {\n",
       "        vertical-align: top;\n",
       "    }\n",
       "\n",
       "    .dataframe thead th {\n",
       "        text-align: right;\n",
       "    }\n",
       "</style>\n",
       "<table border=\"1\" class=\"dataframe\">\n",
       "  <thead>\n",
       "    <tr style=\"text-align: right;\">\n",
       "      <th></th>\n",
       "      <th>Unnamed: 0</th>\n",
       "      <th>title</th>\n",
       "      <th>text</th>\n",
       "      <th>label</th>\n",
       "    </tr>\n",
       "  </thead>\n",
       "  <tbody>\n",
       "    <tr>\n",
       "      <th>0</th>\n",
       "      <td>8476</td>\n",
       "      <td>You Can Smell Hillary’s Fear</td>\n",
       "      <td>Daniel Greenfield, a Shillman Journalism Fello...</td>\n",
       "      <td>1</td>\n",
       "    </tr>\n",
       "    <tr>\n",
       "      <th>1</th>\n",
       "      <td>10294</td>\n",
       "      <td>Watch The Exact Moment Paul Ryan Committed Pol...</td>\n",
       "      <td>Google Pinterest Digg Linkedin Reddit Stumbleu...</td>\n",
       "      <td>1</td>\n",
       "    </tr>\n",
       "    <tr>\n",
       "      <th>2</th>\n",
       "      <td>3608</td>\n",
       "      <td>Kerry to go to Paris in gesture of sympathy</td>\n",
       "      <td>U.S. Secretary of State John F. Kerry said Mon...</td>\n",
       "      <td>0</td>\n",
       "    </tr>\n",
       "    <tr>\n",
       "      <th>3</th>\n",
       "      <td>10142</td>\n",
       "      <td>Bernie supporters on Twitter erupt in anger ag...</td>\n",
       "      <td>— Kaydee King (@KaydeeKing) November 9, 2016 T...</td>\n",
       "      <td>1</td>\n",
       "    </tr>\n",
       "    <tr>\n",
       "      <th>4</th>\n",
       "      <td>875</td>\n",
       "      <td>The Battle of New York: Why This Primary Matters</td>\n",
       "      <td>It's primary day in New York and front-runners...</td>\n",
       "      <td>0</td>\n",
       "    </tr>\n",
       "  </tbody>\n",
       "</table>\n",
       "</div>"
      ],
      "text/plain": [
       "   Unnamed: 0                                              title  \\\n",
       "0        8476                       You Can Smell Hillary’s Fear   \n",
       "1       10294  Watch The Exact Moment Paul Ryan Committed Pol...   \n",
       "2        3608        Kerry to go to Paris in gesture of sympathy   \n",
       "3       10142  Bernie supporters on Twitter erupt in anger ag...   \n",
       "4         875   The Battle of New York: Why This Primary Matters   \n",
       "\n",
       "                                                text  label  \n",
       "0  Daniel Greenfield, a Shillman Journalism Fello...      1  \n",
       "1  Google Pinterest Digg Linkedin Reddit Stumbleu...      1  \n",
       "2  U.S. Secretary of State John F. Kerry said Mon...      0  \n",
       "3  — Kaydee King (@KaydeeKing) November 9, 2016 T...      1  \n",
       "4  It's primary day in New York and front-runners...      0  "
      ]
     },
     "execution_count": 239,
     "metadata": {},
     "output_type": "execute_result"
    }
   ],
   "source": [
    "data.head()"
   ]
  },
  {
   "cell_type": "code",
   "execution_count": 152,
   "id": "b2bb1338",
   "metadata": {},
   "outputs": [
    {
     "data": {
      "text/plain": [
       "0    3171\n",
       "1    3164\n",
       "Name: label, dtype: int64"
      ]
     },
     "execution_count": 152,
     "metadata": {},
     "output_type": "execute_result"
    }
   ],
   "source": [
    "data['label'].value_counts()"
   ]
  },
  {
   "cell_type": "code",
   "execution_count": 50,
   "id": "84b47f0d",
   "metadata": {},
   "outputs": [
    {
     "name": "stdout",
     "output_type": "stream",
     "text": [
      "<class 'pandas.core.frame.DataFrame'>\n",
      "RangeIndex: 6335 entries, 0 to 6334\n",
      "Data columns (total 4 columns):\n",
      " #   Column      Non-Null Count  Dtype \n",
      "---  ------      --------------  ----- \n",
      " 0   Unnamed: 0  6335 non-null   int64 \n",
      " 1   title       6335 non-null   object\n",
      " 2   text        6335 non-null   object\n",
      " 3   label       6335 non-null   object\n",
      "dtypes: int64(1), object(3)\n",
      "memory usage: 198.1+ KB\n"
     ]
    }
   ],
   "source": [
    "# data exploration\n",
    "\n",
    "data.info()"
   ]
  },
  {
   "cell_type": "code",
   "execution_count": 6,
   "id": "bba9126f",
   "metadata": {},
   "outputs": [
    {
     "data": {
      "text/html": [
       "<div>\n",
       "<style scoped>\n",
       "    .dataframe tbody tr th:only-of-type {\n",
       "        vertical-align: middle;\n",
       "    }\n",
       "\n",
       "    .dataframe tbody tr th {\n",
       "        vertical-align: top;\n",
       "    }\n",
       "\n",
       "    .dataframe thead th {\n",
       "        text-align: right;\n",
       "    }\n",
       "</style>\n",
       "<table border=\"1\" class=\"dataframe\">\n",
       "  <thead>\n",
       "    <tr style=\"text-align: right;\">\n",
       "      <th></th>\n",
       "      <th>Unnamed: 0</th>\n",
       "    </tr>\n",
       "  </thead>\n",
       "  <tbody>\n",
       "    <tr>\n",
       "      <th>count</th>\n",
       "      <td>6335.000000</td>\n",
       "    </tr>\n",
       "    <tr>\n",
       "      <th>mean</th>\n",
       "      <td>5280.415627</td>\n",
       "    </tr>\n",
       "    <tr>\n",
       "      <th>std</th>\n",
       "      <td>3038.503953</td>\n",
       "    </tr>\n",
       "    <tr>\n",
       "      <th>min</th>\n",
       "      <td>2.000000</td>\n",
       "    </tr>\n",
       "    <tr>\n",
       "      <th>25%</th>\n",
       "      <td>2674.500000</td>\n",
       "    </tr>\n",
       "    <tr>\n",
       "      <th>50%</th>\n",
       "      <td>5271.000000</td>\n",
       "    </tr>\n",
       "    <tr>\n",
       "      <th>75%</th>\n",
       "      <td>7901.000000</td>\n",
       "    </tr>\n",
       "    <tr>\n",
       "      <th>max</th>\n",
       "      <td>10557.000000</td>\n",
       "    </tr>\n",
       "  </tbody>\n",
       "</table>\n",
       "</div>"
      ],
      "text/plain": [
       "         Unnamed: 0\n",
       "count   6335.000000\n",
       "mean    5280.415627\n",
       "std     3038.503953\n",
       "min        2.000000\n",
       "25%     2674.500000\n",
       "50%     5271.000000\n",
       "75%     7901.000000\n",
       "max    10557.000000"
      ]
     },
     "execution_count": 6,
     "metadata": {},
     "output_type": "execute_result"
    }
   ],
   "source": [
    "data.describe()"
   ]
  },
  {
   "cell_type": "code",
   "execution_count": 9,
   "id": "f8db2f21",
   "metadata": {},
   "outputs": [
    {
     "data": {
      "text/plain": [
       "Unnamed: 0    True\n",
       "title         True\n",
       "text          True\n",
       "label         True\n",
       "dtype: bool"
      ]
     },
     "execution_count": 9,
     "metadata": {},
     "output_type": "execute_result"
    }
   ],
   "source": [
    "data.all()"
   ]
  },
  {
   "cell_type": "code",
   "execution_count": 155,
   "id": "187e016d",
   "metadata": {},
   "outputs": [
    {
     "data": {
      "text/plain": [
       "Text(0.5, 1.0, 'Class Distributions \\n Real News     Fake News')"
      ]
     },
     "execution_count": 155,
     "metadata": {},
     "output_type": "execute_result"
    },
    {
     "data": {
      "image/png": "[encoded data removed]",
      "text/plain": [
       "<Figure size 576x432 with 1 Axes>"
      ]
     },
     "metadata": {
      "needs_background": "light"
     },
     "output_type": "display_data"
    }
   ],
   "source": [
    "colors = [\"green\", \"red\"]\n",
    "\n",
    "plt.figure(figsize=(8, 6))\n",
    "sns.countplot(x='label', data=data, palette=colors)\n",
    "plt.title('Class Distributions \\n Real News     Fake News', fontsize=14, color='k')"
   ]
  },
  {
   "cell_type": "code",
   "execution_count": 240,
   "id": "9d9da4d4",
   "metadata": {},
   "outputs": [],
   "source": [
    "import re\n",
    "\n",
    "def preprocessor(text):\n",
    "    text = re.sub('<[^>]*>', '', text)\n",
    "    emoticons = re.findall('(?::|;|=)(?:-)?(?:\\)|\\(|D|P)', text)\n",
    "    text = (re.sub('[\\W]+', ' ', text.lower()) + \n",
    "            ' '.join(emoticons).replace('-', ''))\n",
    "    return text"
   ]
  },
  {
   "cell_type": "code",
   "execution_count": 156,
   "id": "d91d6962",
   "metadata": {
    "collapsed": true
   },
   "outputs": [
    {
     "data": {
      "text/plain": [
       "'Google Pinterest Digg Linkedin Reddit Stumbleupon Print Delicious Pocket Tumblr \\nThere are two fundamental truths in this world: Paul Ryan desperately wants to be president. And Paul Ryan will never be president. Today proved it. \\nIn a particularly staggering example of political cowardice, Paul Ryan re-re-re-reversed course and announced that he was back on the Trump Train after all. This was an aboutface from where he was a few weeks ago. He had previously declared he would not be supporting or defending Trump after a tape was made public in which Trump bragged about assaulting women. Suddenly, Ryan was appearing at a pro-Trump rally and boldly declaring that he already sent in his vote to make him President of the United States. It was a surreal moment. The figurehead of the Republican Party dosed himself in gasoline, got up on a stage on a chilly afternoon in Wisconsin, and lit a match. . @SpeakerRyan says he voted for @realDonaldTrump : “Republicans, it is time to come home” https://t.co/VyTT49YvoE pic.twitter.com/wCvSCg4a5I \\n— ABC News Politics (@ABCPolitics) November 5, 2016 \\nThe Democratic Party couldn’t have asked for a better moment of film. Ryan’s chances of ever becoming president went down to zero in an instant. In the wreckage Trump is to leave behind in his wake, those who cravenly backed his campaign will not recover. If Ryan’s career manages to limp all the way to 2020, then the DNC will have this tape locked and loaded to be used in every ad until Election Day. \\nThe ringing endorsement of the man he clearly hates on a personal level speaks volumes about his own spinelessness. Ryan has postured himself as a “principled” conservative, and one uncomfortable with Trump’s unapologetic bigotry and sexism. However, when push came to shove, Paul Ryan – like many of his colleagues – turned into a sniveling appeaser. After all his lofty tak about conviction, his principles were a house of cards and collapsed with the slightest breeze. \\nWhat’s especially bizarre is how close Ryan came to making it through unscathed. For months the Speaker of the House refused to comment on Trump at all. His strategy seemed to be to keep his head down, pretend Trump didn’t exist, and hope that nobody remembered what happened in 2016. Now, just days away from the election, he screwed it all up. \\nIf 2016’s very ugly election has done any good it’s by exposing the utter cowardice of the Republicans who once feigned moral courage. A reality television star spit on them, hijacked their party, insulted their wives, and got every last one of them to kneel before him. What a turn of events. \\nFeatured image via Twitter'"
      ]
     },
     "execution_count": 156,
     "metadata": {},
     "output_type": "execute_result"
    }
   ],
   "source": [
    "data.loc[1, 'text']"
   ]
  },
  {
   "cell_type": "code",
   "execution_count": 157,
   "id": "7a037f51",
   "metadata": {
    "collapsed": true
   },
   "outputs": [
    {
     "data": {
      "text/plain": [
       "'google pinterest digg linkedin reddit stumbleupon print delicious pocket tumblr there are two fundamental truths in this world paul ryan desperately wants to be president and paul ryan will never be president today proved it in a particularly staggering example of political cowardice paul ryan re re re reversed course and announced that he was back on the trump train after all this was an aboutface from where he was a few weeks ago he had previously declared he would not be supporting or defending trump after a tape was made public in which trump bragged about assaulting women suddenly ryan was appearing at a pro trump rally and boldly declaring that he already sent in his vote to make him president of the united states it was a surreal moment the figurehead of the republican party dosed himself in gasoline got up on a stage on a chilly afternoon in wisconsin and lit a match speakerryan says he voted for realdonaldtrump republicans it is time to come home https t co vytt49yvoe pic twitter com wcvscg4a5i abc news politics abcpolitics november 5 2016 the democratic party couldn t have asked for a better moment of film ryan s chances of ever becoming president went down to zero in an instant in the wreckage trump is to leave behind in his wake those who cravenly backed his campaign will not recover if ryan s career manages to limp all the way to 2020 then the dnc will have this tape locked and loaded to be used in every ad until election day the ringing endorsement of the man he clearly hates on a personal level speaks volumes about his own spinelessness ryan has postured himself as a principled conservative and one uncomfortable with trump s unapologetic bigotry and sexism however when push came to shove paul ryan like many of his colleagues turned into a sniveling appeaser after all his lofty tak about conviction his principles were a house of cards and collapsed with the slightest breeze what s especially bizarre is how close ryan came to making it through unscathed for months the speaker of the house refused to comment on trump at all his strategy seemed to be to keep his head down pretend trump didn t exist and hope that nobody remembered what happened in 2016 now just days away from the election he screwed it all up if 2016 s very ugly election has done any good it s by exposing the utter cowardice of the republicans who once feigned moral courage a reality television star spit on them hijacked their party insulted their wives and got every last one of them to kneel before him what a turn of events featured image via twitter'"
      ]
     },
     "execution_count": 157,
     "metadata": {},
     "output_type": "execute_result"
    }
   ],
   "source": [
    "preprocessor(data.loc[1, 'text'])"
   ]
  },
  {
   "cell_type": "code",
   "execution_count": 241,
   "id": "301e5e18",
   "metadata": {},
   "outputs": [],
   "source": [
    "# applying the preprocessor to out data\n",
    "\n",
    "data['text'] = data['text'].apply(preprocessor)"
   ]
  },
  {
   "cell_type": "code",
   "execution_count": 242,
   "id": "22448602",
   "metadata": {},
   "outputs": [
    {
     "data": {
      "text/html": [
       "<div>\n",
       "<style scoped>\n",
       "    .dataframe tbody tr th:only-of-type {\n",
       "        vertical-align: middle;\n",
       "    }\n",
       "\n",
       "    .dataframe tbody tr th {\n",
       "        vertical-align: top;\n",
       "    }\n",
       "\n",
       "    .dataframe thead th {\n",
       "        text-align: right;\n",
       "    }\n",
       "</style>\n",
       "<table border=\"1\" class=\"dataframe\">\n",
       "  <thead>\n",
       "    <tr style=\"text-align: right;\">\n",
       "      <th></th>\n",
       "      <th>Unnamed: 0</th>\n",
       "      <th>title</th>\n",
       "      <th>text</th>\n",
       "      <th>label</th>\n",
       "    </tr>\n",
       "  </thead>\n",
       "  <tbody>\n",
       "    <tr>\n",
       "      <th>0</th>\n",
       "      <td>8476</td>\n",
       "      <td>You Can Smell Hillary’s Fear</td>\n",
       "      <td>daniel greenfield a shillman journalism fellow...</td>\n",
       "      <td>1</td>\n",
       "    </tr>\n",
       "    <tr>\n",
       "      <th>1</th>\n",
       "      <td>10294</td>\n",
       "      <td>Watch The Exact Moment Paul Ryan Committed Pol...</td>\n",
       "      <td>google pinterest digg linkedin reddit stumbleu...</td>\n",
       "      <td>1</td>\n",
       "    </tr>\n",
       "    <tr>\n",
       "      <th>2</th>\n",
       "      <td>3608</td>\n",
       "      <td>Kerry to go to Paris in gesture of sympathy</td>\n",
       "      <td>u s secretary of state john f kerry said monda...</td>\n",
       "      <td>0</td>\n",
       "    </tr>\n",
       "    <tr>\n",
       "      <th>3</th>\n",
       "      <td>10142</td>\n",
       "      <td>Bernie supporters on Twitter erupt in anger ag...</td>\n",
       "      <td>kaydee king kaydeeking november 9 2016 the le...</td>\n",
       "      <td>1</td>\n",
       "    </tr>\n",
       "    <tr>\n",
       "      <th>4</th>\n",
       "      <td>875</td>\n",
       "      <td>The Battle of New York: Why This Primary Matters</td>\n",
       "      <td>it s primary day in new york and front runners...</td>\n",
       "      <td>0</td>\n",
       "    </tr>\n",
       "  </tbody>\n",
       "</table>\n",
       "</div>"
      ],
      "text/plain": [
       "   Unnamed: 0                                              title  \\\n",
       "0        8476                       You Can Smell Hillary’s Fear   \n",
       "1       10294  Watch The Exact Moment Paul Ryan Committed Pol...   \n",
       "2        3608        Kerry to go to Paris in gesture of sympathy   \n",
       "3       10142  Bernie supporters on Twitter erupt in anger ag...   \n",
       "4         875   The Battle of New York: Why This Primary Matters   \n",
       "\n",
       "                                                text  label  \n",
       "0  daniel greenfield a shillman journalism fellow...      1  \n",
       "1  google pinterest digg linkedin reddit stumbleu...      1  \n",
       "2  u s secretary of state john f kerry said monda...      0  \n",
       "3   kaydee king kaydeeking november 9 2016 the le...      1  \n",
       "4  it s primary day in new york and front runners...      0  "
      ]
     },
     "execution_count": 242,
     "metadata": {},
     "output_type": "execute_result"
    }
   ],
   "source": [
    "data.head()"
   ]
  },
  {
   "cell_type": "code",
   "execution_count": 243,
   "id": "1111aa99",
   "metadata": {},
   "outputs": [],
   "source": [
    "stop = stopwords.words('english')\n",
    "import re\n",
    "\n",
    "def tokenizer(text):\n",
    "    text = re.sub('<[^>]*>', '', text)\n",
    "    emoticons = re.findall('(?::|;|=)(?:-)?(?:\\)|\\(|D|P)', text.lower())\n",
    "    text = re.sub('[\\W]+', ' ', text.lower()) +\\\n",
    "        ' '.join(emoticons).replace('-', '')\n",
    "    tokenized = [w for w in text.split() if w not in stop]\n",
    "    return tokenized"
   ]
  },
  {
   "cell_type": "code",
   "execution_count": 244,
   "id": "2b5a5d79",
   "metadata": {},
   "outputs": [],
   "source": [
    "vect = HashingVectorizer(decode_error='ignore',\n",
    "                         n_features=2**21,\n",
    "                         preprocessor=None,\n",
    "                         tokenizer=tokenizer\n",
    "                        )"
   ]
  },
  {
   "cell_type": "code",
   "execution_count": 245,
   "id": "a72701b0",
   "metadata": {},
   "outputs": [],
   "source": [
    "X, y = data.text, data.label\n",
    "X_train, X_test, y_train, y_test = train_test_split(X, y, test_size=0.25, random_state=42)"
   ]
  },
  {
   "cell_type": "code",
   "execution_count": 161,
   "id": "ae8e4bc5",
   "metadata": {},
   "outputs": [
    {
     "name": "stderr",
     "output_type": "stream",
     "text": [
      "C:\\Users\\Ben\\anaconda3\\lib\\site-packages\\sklearn\\feature_extraction\\text.py:489: UserWarning: The parameter 'token_pattern' will not be used since 'tokenizer' is not None'\n",
      "  warnings.warn(\"The parameter 'token_pattern' will not be used\"\n"
     ]
    }
   ],
   "source": [
    "X_train = vect.fit_transform(X_train)\n",
    "X_test = vect.transform(X_test)"
   ]
  },
  {
   "cell_type": "code",
   "execution_count": 26,
   "id": "8a721309",
   "metadata": {},
   "outputs": [],
   "source": [
    "# Processing texts (vectorization)\n",
    "\n",
    "vectorizer = TfidfVectorizer(stop_words='english', max_df=.6)\n",
    "\n",
    "vectorized_train = vectorizer.fit_transform(X_train)\n",
    "vectorized_test = vectorizer.transform(X_test)"
   ]
  },
  {
   "cell_type": "markdown",
   "id": "c25f58b8",
   "metadata": {},
   "source": [
    "## PassiveAggressive Classifier"
   ]
  },
  {
   "cell_type": "code",
   "execution_count": 188,
   "id": "4c299c8d",
   "metadata": {},
   "outputs": [
    {
     "data": {
      "text/plain": [
       "PassiveAggressiveClassifier()"
      ]
     },
     "execution_count": 188,
     "metadata": {},
     "output_type": "execute_result"
    }
   ],
   "source": [
    "# building a clissifier\n",
    "\n",
    "aggr_clf = PassiveAggressiveClassifier()\n",
    "aggr_clf.fit(X_train, y_train)"
   ]
  },
  {
   "cell_type": "code",
   "execution_count": 189,
   "id": "52c174f5",
   "metadata": {},
   "outputs": [
    {
     "data": {
      "text/plain": [
       "0.9318181818181818"
      ]
     },
     "execution_count": 189,
     "metadata": {},
     "output_type": "execute_result"
    }
   ],
   "source": [
    "aggr_clf.score(X_test, y_test)"
   ]
  },
  {
   "cell_type": "code",
   "execution_count": 191,
   "id": "7ae9eb7b",
   "metadata": {},
   "outputs": [
    {
     "name": "stdout",
     "output_type": "stream",
     "text": [
      "Accuracy: 93.18%\n"
     ]
    }
   ],
   "source": [
    "# evaluate the classifier\n",
    "aggr_preds = aggr_clf.predict(X_test)\n",
    "score = accuracy_score(y_test, aggr_preds)\n",
    "print(f'Accuracy: {score*100:.2f}%')"
   ]
  },
  {
   "cell_type": "code",
   "execution_count": 196,
   "id": "393543d0",
   "metadata": {},
   "outputs": [
    {
     "name": "stdout",
     "output_type": "stream",
     "text": [
      "Accuracy: 0.9318181818181818\n",
      "Recall: 0.9269521410579346\n",
      "Precision: 0.9363867684478372\n",
      "F1_score: 0.9316455696202532\n"
     ]
    }
   ],
   "source": [
    "print(f'Accuracy: {accuracy_score(y_test, aggr_preds)}')\n",
    "print(f'Recall: {recall_score(y_test, aggr_preds)}')\n",
    "print(f'Precision: {precision_score(y_test, aggr_preds)}')\n",
    "print(f'F1_score: {f1_score(y_test, aggr_preds)}')"
   ]
  },
  {
   "cell_type": "code",
   "execution_count": 197,
   "id": "681346fc",
   "metadata": {},
   "outputs": [
    {
     "data": {
      "text/plain": [
       "<AxesSubplot:>"
      ]
     },
     "execution_count": 197,
     "metadata": {},
     "output_type": "execute_result"
    },
    {
     "data": {
      "image/png": "[encoded data removed]",
      "text/plain": [
       "<Figure size 432x288 with 1 Axes>"
      ]
     },
     "metadata": {
      "needs_background": "light"
     },
     "output_type": "display_data"
    }
   ],
   "source": [
    "# confusion matrix\n",
    "\n",
    "conf_mat = confusion_matrix(y_test, aggr_preds)\n",
    "sns.heatmap(conf_mat, square=True, annot=True, cmap='Blues', fmt='d', cbar=False)"
   ]
  },
  {
   "cell_type": "code",
   "execution_count": 252,
   "id": "f8537b79",
   "metadata": {},
   "outputs": [
    {
     "name": "stdout",
     "output_type": "stream",
     "text": [
      "Prediction: Real News\n"
     ]
    }
   ],
   "source": [
    "# testing our model on real world test\n",
    "\n",
    "label = {0:'Real News', 1:'Fake News'}\n",
    "\n",
    "example = [data.iloc[2,:].text]\n",
    "\n",
    "X = vect.transform(example)\n",
    "print(f'Prediction: {label[aggr_clf.predict(X)[0]]}')"
   ]
  },
  {
   "cell_type": "markdown",
   "id": "15e262db",
   "metadata": {},
   "source": [
    "# Training KNN model"
   ]
  },
  {
   "cell_type": "code",
   "execution_count": 200,
   "id": "864d7dd7",
   "metadata": {},
   "outputs": [
    {
     "data": {
      "text/plain": [
       "KNeighborsClassifier()"
      ]
     },
     "execution_count": 200,
     "metadata": {},
     "output_type": "execute_result"
    }
   ],
   "source": [
    "# KNN\n",
    "from sklearn.neighbors import KNeighborsClassifier as KNN\n",
    "\n",
    "knn_clf = KNN()\n",
    "\n",
    "knn_clf.fit(X_train, y_train)"
   ]
  },
  {
   "cell_type": "code",
   "execution_count": 201,
   "id": "50bd216c",
   "metadata": {},
   "outputs": [],
   "source": [
    "knn_preds = knn_clf.predict(X_test)"
   ]
  },
  {
   "cell_type": "code",
   "execution_count": 202,
   "id": "5cb9f395",
   "metadata": {},
   "outputs": [
    {
     "name": "stdout",
     "output_type": "stream",
     "text": [
      "Accuracy: 0.6944444444444444\n"
     ]
    }
   ],
   "source": [
    "print(f'Accuracy: {knn_clf.score(X_test, y_test)}')"
   ]
  },
  {
   "cell_type": "code",
   "execution_count": 203,
   "id": "3497f0a6",
   "metadata": {},
   "outputs": [
    {
     "name": "stdout",
     "output_type": "stream",
     "text": [
      "Accuracy: 0.6944444444444444\n",
      "Recall: 0.9722921914357683\n",
      "Precision: 0.6256077795786061\n",
      "F1_score: 0.7613412228796844\n"
     ]
    }
   ],
   "source": [
    "print(f'Accuracy: {accuracy_score(y_test, knn_preds)}')\n",
    "print(f'Recall: {recall_score(y_test, knn_preds)}')\n",
    "print(f'Precision: {precision_score(y_test, knn_preds)}')\n",
    "print(f'F1_score: {f1_score(y_test, knn_preds)}')"
   ]
  },
  {
   "cell_type": "code",
   "execution_count": 204,
   "id": "f3d7ede0",
   "metadata": {},
   "outputs": [
    {
     "data": {
      "text/plain": [
       "<AxesSubplot:>"
      ]
     },
     "execution_count": 204,
     "metadata": {},
     "output_type": "execute_result"
    },
    {
     "data": {
      "image/png": "[encoded data removed]",
      "text/plain": [
       "<Figure size 432x288 with 1 Axes>"
      ]
     },
     "metadata": {
      "needs_background": "light"
     },
     "output_type": "display_data"
    }
   ],
   "source": [
    "conf_mat = confusion_matrix(y_test, knn_preds)\n",
    "sns.heatmap(conf_mat, square=True, annot=True, cmap='Blues', fmt='d', cbar=False)"
   ]
  },
  {
   "cell_type": "code",
   "execution_count": 253,
   "id": "2cb8176e",
   "metadata": {},
   "outputs": [
    {
     "name": "stdout",
     "output_type": "stream",
     "text": [
      "Prediction: Fake News\n",
      "Probability: 80.00%\n"
     ]
    }
   ],
   "source": [
    "label = {0:'Real News', 1:'Fake News'}\n",
    "\n",
    "example = [data.iloc[1,:].text]\n",
    "\n",
    "X = vect.transform(example)\n",
    "print('Prediction: %s\\nProbability: %.2f%%' %\\\n",
    "      (label[knn_clf.predict(X)[0]], \n",
    "       np.max(knn_clf.predict_proba(X))*100))"
   ]
  },
  {
   "cell_type": "markdown",
   "id": "2d77d08d",
   "metadata": {},
   "source": [
    "## SVM Model"
   ]
  },
  {
   "cell_type": "code",
   "execution_count": 207,
   "id": "2537047e",
   "metadata": {},
   "outputs": [
    {
     "data": {
      "text/plain": [
       "SVC()"
      ]
     },
     "execution_count": 207,
     "metadata": {},
     "output_type": "execute_result"
    }
   ],
   "source": [
    "from sklearn.svm import SVC\n",
    "svm_clf = SVC()\n",
    "\n",
    "svm_clf.fit(X_train, y_train)"
   ]
  },
  {
   "cell_type": "code",
   "execution_count": 208,
   "id": "427eae8e",
   "metadata": {},
   "outputs": [
    {
     "name": "stdout",
     "output_type": "stream",
     "text": [
      "Accuracy: 0.9267676767676768\n",
      "Recall: 0.9382871536523929\n",
      "Precision: 0.9174876847290641\n",
      "F1_score: 0.9277708592777086\n"
     ]
    }
   ],
   "source": [
    "svm_preds = svm_clf.predict(X_test)\n",
    "\n",
    "print(f'Accuracy: {accuracy_score(y_test, svm_preds)}')\n",
    "print(f'Recall: {recall_score(y_test, svm_preds)}')\n",
    "print(f'Precision: {precision_score(y_test, svm_preds)}')\n",
    "print(f'F1_score: {f1_score(y_test, svm_preds)}')"
   ]
  },
  {
   "cell_type": "code",
   "execution_count": 209,
   "id": "38a22ce0",
   "metadata": {},
   "outputs": [
    {
     "data": {
      "text/plain": [
       "<AxesSubplot:>"
      ]
     },
     "execution_count": 209,
     "metadata": {},
     "output_type": "execute_result"
    },
    {
     "data": {
      "image/png": "[encoded data removed]",
      "text/plain": [
       "<Figure size 432x288 with 1 Axes>"
      ]
     },
     "metadata": {
      "needs_background": "light"
     },
     "output_type": "display_data"
    }
   ],
   "source": [
    "conf_mat = confusion_matrix(y_test, svm_preds)\n",
    "sns.heatmap(conf_mat, square=True, annot=True, cmap='Blues', fmt='d', cbar=False)"
   ]
  },
  {
   "cell_type": "code",
   "execution_count": 256,
   "id": "806a247e",
   "metadata": {},
   "outputs": [
    {
     "name": "stdout",
     "output_type": "stream",
     "text": [
      "Prediction: Real News\n"
     ]
    }
   ],
   "source": [
    "label = {0:'Real News', 1:'Fake News'}\n",
    "\n",
    "# example = [data.iloc[4,:].text]\n",
    "example = ['U.S. Secretary of State John F. Kerry said Monday']\n",
    "\n",
    "X = vect.transform(example)\n",
    "print(f'Prediction: {label[svm_clf.predict(X)[0]]}')"
   ]
  },
  {
   "cell_type": "markdown",
   "id": "86cad17b",
   "metadata": {},
   "source": [
    "## Decision Tree"
   ]
  },
  {
   "cell_type": "code",
   "execution_count": 220,
   "id": "f3c850ab",
   "metadata": {},
   "outputs": [
    {
     "data": {
      "text/plain": [
       "DecisionTreeClassifier()"
      ]
     },
     "execution_count": 220,
     "metadata": {},
     "output_type": "execute_result"
    }
   ],
   "source": [
    "from sklearn.tree import DecisionTreeClassifier\n",
    "tree_clf = DecisionTreeClassifier()\n",
    "\n",
    "tree_clf.fit(X_train, y_train)"
   ]
  },
  {
   "cell_type": "code",
   "execution_count": 221,
   "id": "9256da7a",
   "metadata": {},
   "outputs": [],
   "source": [
    "tree_preds = tree_clf.predict(X_test)"
   ]
  },
  {
   "cell_type": "code",
   "execution_count": 222,
   "id": "b2373960",
   "metadata": {},
   "outputs": [
    {
     "name": "stdout",
     "output_type": "stream",
     "text": [
      "Accuracy: 0.8320707070707071\n",
      "Recall: 0.8513853904282116\n",
      "Precision: 0.8203883495145631\n",
      "F1_score: 0.8355995055624228\n"
     ]
    }
   ],
   "source": [
    "print(f'Accuracy: {accuracy_score(y_test, tree_preds)}')\n",
    "print(f'Recall: {recall_score(y_test, tree_preds)}')\n",
    "print(f'Precision: {precision_score(y_test, tree_preds)}')\n",
    "print(f'F1_score: {f1_score(y_test, tree_preds)}')"
   ]
  },
  {
   "cell_type": "code",
   "execution_count": 223,
   "id": "b5ee73b1",
   "metadata": {},
   "outputs": [
    {
     "data": {
      "text/plain": [
       "<AxesSubplot:>"
      ]
     },
     "execution_count": 223,
     "metadata": {},
     "output_type": "execute_result"
    },
    {
     "data": {
      "image/png": "[encoded data removed]",
      "text/plain": [
       "<Figure size 432x288 with 1 Axes>"
      ]
     },
     "metadata": {
      "needs_background": "light"
     },
     "output_type": "display_data"
    }
   ],
   "source": [
    "conf_mat = confusion_matrix(y_test, tree_preds)\n",
    "sns.heatmap(conf_mat, square=True, annot=True, cmap='Blues', fmt='d', cbar=False)"
   ]
  },
  {
   "cell_type": "code",
   "execution_count": 257,
   "id": "c3f17ddb",
   "metadata": {},
   "outputs": [
    {
     "name": "stdout",
     "output_type": "stream",
     "text": [
      "Prediction: Real News\n",
      "Probability: 100.00%\n"
     ]
    }
   ],
   "source": [
    "label = {0:'Real News', 1:'Fake News'}\n",
    "\n",
    "example = [data.iloc[10,:].text]\n",
    "\n",
    "X = vect.transform(example)\n",
    "print('Prediction: %s\\nProbability: %.2f%%' %\\\n",
    "      (label[tree_clf.predict(X)[0]], \n",
    "       np.max(tree_clf.predict_proba(X))*100))"
   ]
  },
  {
   "cell_type": "code",
   "execution_count": 231,
   "id": "660ab5b4",
   "metadata": {},
   "outputs": [],
   "source": [
    "model_results = pd.DataFrame([['PassiveAggressive',\n",
    "                               accuracy_score(y_test, aggr_preds),\n",
    "                               recall_score(y_test, aggr_preds),\n",
    "                               precision_score(y_test, aggr_preds),\n",
    "                               f1_score(y_test, aggr_preds)],\n",
    "                             ['KNN',\n",
    "                               accuracy_score(y_test, knn_preds),\n",
    "                               recall_score(y_test, knn_preds),\n",
    "                               precision_score(y_test, knn_preds),\n",
    "                               f1_score(y_test, knn_preds)],\n",
    "                             ['SVM',\n",
    "                               accuracy_score(y_test, svm_preds),\n",
    "                               recall_score(y_test, svm_preds),\n",
    "                               precision_score(y_test, svm_preds),\n",
    "                               f1_score(y_test, svm_preds)],\n",
    "                             ['Decision Tree',\n",
    "                               accuracy_score(y_test, tree_preds),\n",
    "                               recall_score(y_test, tree_preds),\n",
    "                               precision_score(y_test, tree_preds),\n",
    "                               f1_score(y_test, tree_preds)]],\n",
    "                             \n",
    "               columns = ['Model', 'Accuracy', 'Recall', 'Precision', 'F1 Score'])"
   ]
  },
  {
   "cell_type": "code",
   "execution_count": 246,
   "id": "a1f3b397",
   "metadata": {},
   "outputs": [
    {
     "data": {
      "text/html": [
       "<div>\n",
       "<style scoped>\n",
       "    .dataframe tbody tr th:only-of-type {\n",
       "        vertical-align: middle;\n",
       "    }\n",
       "\n",
       "    .dataframe tbody tr th {\n",
       "        vertical-align: top;\n",
       "    }\n",
       "\n",
       "    .dataframe thead th {\n",
       "        text-align: right;\n",
       "    }\n",
       "</style>\n",
       "<table border=\"1\" class=\"dataframe\">\n",
       "  <thead>\n",
       "    <tr style=\"text-align: right;\">\n",
       "      <th></th>\n",
       "      <th>Model</th>\n",
       "      <th>Accuracy</th>\n",
       "      <th>Recall</th>\n",
       "      <th>Precision</th>\n",
       "      <th>F1 Score</th>\n",
       "    </tr>\n",
       "  </thead>\n",
       "  <tbody>\n",
       "    <tr>\n",
       "      <th>0</th>\n",
       "      <td>PassiveAggressive</td>\n",
       "      <td>0.931818</td>\n",
       "      <td>0.926952</td>\n",
       "      <td>0.936387</td>\n",
       "      <td>0.931646</td>\n",
       "    </tr>\n",
       "    <tr>\n",
       "      <th>1</th>\n",
       "      <td>KNN</td>\n",
       "      <td>0.694444</td>\n",
       "      <td>0.972292</td>\n",
       "      <td>0.625608</td>\n",
       "      <td>0.761341</td>\n",
       "    </tr>\n",
       "    <tr>\n",
       "      <th>2</th>\n",
       "      <td>SVM</td>\n",
       "      <td>0.926768</td>\n",
       "      <td>0.938287</td>\n",
       "      <td>0.917488</td>\n",
       "      <td>0.927771</td>\n",
       "    </tr>\n",
       "    <tr>\n",
       "      <th>3</th>\n",
       "      <td>Decision Tree</td>\n",
       "      <td>0.832071</td>\n",
       "      <td>0.851385</td>\n",
       "      <td>0.820388</td>\n",
       "      <td>0.835600</td>\n",
       "    </tr>\n",
       "  </tbody>\n",
       "</table>\n",
       "</div>"
      ],
      "text/plain": [
       "               Model  Accuracy    Recall  Precision  F1 Score\n",
       "0  PassiveAggressive  0.931818  0.926952   0.936387  0.931646\n",
       "1                KNN  0.694444  0.972292   0.625608  0.761341\n",
       "2                SVM  0.926768  0.938287   0.917488  0.927771\n",
       "3      Decision Tree  0.832071  0.851385   0.820388  0.835600"
      ]
     },
     "execution_count": 246,
     "metadata": {},
     "output_type": "execute_result"
    }
   ],
   "source": [
    "# model comparison\n",
    "\n",
    "model_results"
   ]
  },
  {
   "cell_type": "code",
   "execution_count": null,
   "id": "5f07eb57",
   "metadata": {},
   "outputs": [],
   "source": []
  }
 ],
 "metadata": {
  "kernelspec": {
   "display_name": "Python 3",
   "language": "python",
   "name": "python3"
  },
  "language_info": {
   "codemirror_mode": {
    "name": "ipython",
    "version": 3
   },
   "file_extension": ".py",
   "mimetype": "text/x-python",
   "name": "python",
   "nbconvert_exporter": "python",
   "pygments_lexer": "ipython3",
   "version": "3.8.8"
  }
 },
 "nbformat": 4,
 "nbformat_minor": 5
}
